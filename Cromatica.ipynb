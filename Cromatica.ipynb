{
 "cells": [
  {
   "cell_type": "markdown",
   "metadata": {},
   "source": [
    "# Chroma Cinematography"
   ]
  },
  {
   "cell_type": "markdown",
   "metadata": {},
   "source": [
    "### To create an application which will display image in background where chorma is placed"
   ]
  },
  {
   "cell_type": "markdown",
   "metadata": {},
   "source": [
    "##### Importing Important libraries"
   ]
  },
  {
   "cell_type": "code",
   "execution_count": null,
   "metadata": {},
   "outputs": [],
   "source": [
    "import numpy as np  # for processing tensors\n",
    "import cv2          # for processing image"
   ]
  },
  {
   "cell_type": "markdown",
   "metadata": {},
   "source": [
    "##### Tiny program to nail the application ;-)"
   ]
  },
  {
   "cell_type": "code",
   "execution_count": 3,
   "metadata": {},
   "outputs": [],
   "source": [
    "# Initiallizing the Camera to start Video Capturing\n",
    "cap = cv2.VideoCapture(0)\n",
    "# Placing the upper bound and lower bound of chroma in hsv\n",
    "lb=np.array([190,190,190])\n",
    "ub=np.array([255,255,255])\n",
    "count=0\n",
    "list_of_img = ['img.jpg','img1.jpg','img2.png','img3.jpg','img4.jpg','img5.jpg','space.jpg']\n",
    "# kernel for performing the mrophological operation on the frames\n",
    "kernel = np.ones((3,3),np.uint8)\n",
    "\n",
    "while True:\n",
    "    # reading the image from the camera instance\n",
    "    ret, frame = cap.read()\n",
    "    # Reducing the noise, doing meadian bluring\n",
    "    frame = cv2.medianBlur(frame,3)\n",
    "    # Converting bgr color fromat to HSV format\n",
    "    hsv = cv2.cvtColor(frame, cv2.COLOR_BGR2RGB)\n",
    "    # Masking image between upper bounds and lower bounds\n",
    "    closing = cv2.inRange(hsv,lb,ub)\n",
    "    # Appling Morphological operation to reduce noise\n",
    "    closing = cv2.morphologyEx(closing, cv2.MORPH_OPEN, kernel,iterations=1)\n",
    "    \n",
    "    # providing final input in canvas by combining frame and image\n",
    "    canvas = frame.copy()\n",
    "    canvas[closing != 0] =[0,0,0]\n",
    "    img = cv2.imread(list_of_img[count])\n",
    "    img = cv2.resize(img, (640,480))\n",
    "    img[closing == 0]= [0,0,0]\n",
    "    \n",
    "    # showing the final frame after combining both frame\n",
    "    final = canvas+img\n",
    "    #cv2.imshow('Capture', frame)\n",
    "    cv2.imshow('final',final)\n",
    "    # inturrupt in while loop.\n",
    "    if cv2.waitKey(1) & 0xFF == ord('q'):\n",
    "        break\n",
    "    elif cv2.waitKey(1) & 0xFF == ord('f'):\n",
    "        if count<len(list_of_img)-1:\n",
    "            count=count+1\n",
    "            img = list_of_img[count]\n",
    "        else:\n",
    "            count=0\n",
    "    elif cv2.waitKey(1) & 0xFF == ord('b'):\n",
    "        if count>1:\n",
    "            count=count-1\n",
    "            img = list_of_img[count]\n",
    "        else:\n",
    "            count = len(list_of_img)-1\n",
    "# releasing the camera input\n",
    "cap.release()\n",
    "# destroing all windows created by cv2\n",
    "cv2.destroyAllWindows()"
   ]
  },
  {
   "cell_type": "code",
   "execution_count": null,
   "metadata": {},
   "outputs": [],
   "source": []
  }
 ],
 "metadata": {
  "kernelspec": {
   "display_name": "Python 3",
   "language": "python",
   "name": "python3"
  },
  "language_info": {
   "codemirror_mode": {
    "name": "ipython",
    "version": 3
   },
   "file_extension": ".py",
   "mimetype": "text/x-python",
   "name": "python",
   "nbconvert_exporter": "python",
   "pygments_lexer": "ipython3",
   "version": "3.6.3"
  }
 },
 "nbformat": 4,
 "nbformat_minor": 2
}
