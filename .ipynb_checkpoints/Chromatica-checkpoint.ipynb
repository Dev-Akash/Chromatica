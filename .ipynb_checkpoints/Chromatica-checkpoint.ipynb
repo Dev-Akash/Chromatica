{
 "cells": [
  {
   "cell_type": "markdown",
   "metadata": {},
   "source": [
    "# Chroma Cinematography"
   ]
  },
  {
   "cell_type": "markdown",
   "metadata": {},
   "source": [
    "### To create an application which will display image in background where chorma is placed"
   ]
  },
  {
   "cell_type": "markdown",
   "metadata": {},
   "source": [
    "##### Importing Important libraries"
   ]
  },
  {
   "cell_type": "code",
   "execution_count": 3,
   "metadata": {},
   "outputs": [],
   "source": [
    "import numpy as np  # for processing tensors\n",
    "import cv2          # for processing image\n",
    "from tkinter import *\n",
    "from PIL import ImageTk, Image"
   ]
  },
  {
   "cell_type": "markdown",
   "metadata": {},
   "source": [
    "##### Tiny program to nail the application ;-)"
   ]
  },
  {
   "cell_type": "code",
   "execution_count": 4,
   "metadata": {},
   "outputs": [
    {
     "name": "stdout",
     "output_type": "stream",
     "text": [
      "no display found. Using non-interactive Agg backend\n"
     ]
    },
    {
     "ename": "AttributeError",
     "evalue": "type object 'Tk' has no attribute 'use'",
     "output_type": "error",
     "traceback": [
      "\u001b[1;31m---------------------------------------------------------------------------\u001b[0m",
      "\u001b[1;31mAttributeError\u001b[0m                            Traceback (most recent call last)",
      "\u001b[1;32m<ipython-input-4-ee174fa2039d>\u001b[0m in \u001b[0;36m<module>\u001b[1;34m\u001b[0m\n\u001b[0;32m     12\u001b[0m \u001b[1;32mif\u001b[0m \u001b[0mos\u001b[0m\u001b[1;33m.\u001b[0m\u001b[0menviron\u001b[0m\u001b[1;33m.\u001b[0m\u001b[0mget\u001b[0m\u001b[1;33m(\u001b[0m\u001b[1;34m'DISPLAY'\u001b[0m\u001b[1;33m,\u001b[0m\u001b[1;34m''\u001b[0m\u001b[1;33m)\u001b[0m \u001b[1;33m==\u001b[0m \u001b[1;34m''\u001b[0m\u001b[1;33m:\u001b[0m\u001b[1;33m\u001b[0m\u001b[0m\n\u001b[0;32m     13\u001b[0m     \u001b[0mprint\u001b[0m\u001b[1;33m(\u001b[0m\u001b[1;34m'no display found. Using non-interactive Agg backend'\u001b[0m\u001b[1;33m)\u001b[0m\u001b[1;33m\u001b[0m\u001b[0m\n\u001b[1;32m---> 14\u001b[1;33m     \u001b[0mTk\u001b[0m\u001b[1;33m.\u001b[0m\u001b[0muse\u001b[0m\u001b[1;33m(\u001b[0m\u001b[1;34m'Agg'\u001b[0m\u001b[1;33m)\u001b[0m\u001b[1;33m\u001b[0m\u001b[0m\n\u001b[0m\u001b[0;32m     15\u001b[0m \u001b[0mroot\u001b[0m \u001b[1;33m=\u001b[0m \u001b[0mTk\u001b[0m\u001b[1;33m(\u001b[0m\u001b[1;33m)\u001b[0m\u001b[1;33m\u001b[0m\u001b[0m\n\u001b[0;32m     16\u001b[0m \u001b[0mroot\u001b[0m\u001b[1;33m.\u001b[0m\u001b[0mtitle\u001b[0m\u001b[1;33m(\u001b[0m\u001b[1;34m\"Chromatica\"\u001b[0m\u001b[1;33m)\u001b[0m\u001b[1;33m\u001b[0m\u001b[0m\n",
      "\u001b[1;31mAttributeError\u001b[0m: type object 'Tk' has no attribute 'use'"
     ]
    }
   ],
   "source": [
    "\n",
    "# Initiallizing the Camera to start Video Capturing\n",
    "cap = cv2.VideoCapture(0)\n",
    "# Placing the upper bound and lower bound of chroma in hsv\n",
    "lb=np.array([190,190,190])\n",
    "ub=np.array([255,255,255])\n",
    "count=0\n",
    "list_of_img = ['img.jpg','img1.jpg','img2.png','img3.jpg','img4.jpg','img5.jpg','space.jpg']\n",
    "# kernel for performing the mrophological operation on the frames\n",
    "kernel = np.ones((3,3),np.uint8)\n",
    "\n",
    "root = Tk()\n",
    "root.title(\"Chromatica\")\n",
    "# On exit release camera and destroy window.\n",
    "def exit_(event):\n",
    "    cap.release()\n",
    "    root.destroy()\n",
    "root.bind('<Escape>', exit_)\n",
    "lmain = Label(root)\n",
    "lmain.pack()\n",
    "\n",
    "def show_frame():\n",
    "    # reading the image from the camera instance\n",
    "    ret, frame = cap.read()\n",
    "    # Reducing the noise, doing meadian bluring\n",
    "    frame = cv2.medianBlur(frame,3)\n",
    "    # Converting bgr color fromat to HSV format\n",
    "    hsv = cv2.cvtColor(frame, cv2.COLOR_BGR2RGB)\n",
    "    # Masking image between upper bounds and lower bounds\n",
    "    closing = cv2.inRange(hsv,lb,ub)\n",
    "    # Appling Morphological operation to reduce noise\n",
    "    closing = cv2.morphologyEx(closing, cv2.MORPH_OPEN, kernel,iterations=1)\n",
    "    \n",
    "    # providing final input in canvas by combining frame and image\n",
    "    canvas = frame.copy()\n",
    "    canvas[closing != 0] =[0,0,0]\n",
    "    #img = cv2.imread(list_of_img[count])\n",
    "    #img = cv2.resize(img, (640,480))\n",
    "    #img[closing == 0]= [0,0,0]\n",
    "    \n",
    "    # showing the final frame after combining both frame\n",
    "    final = canvas#+img\n",
    "    img = Image.fromarray(final)\n",
    "    imgtk = ImageTk.PhotoImage(image=img)\n",
    "    lmain.imgtk = imgtk\n",
    "    lmain.configure(image=imgtk)\n",
    "    lmain.after(10, show_frame)\n",
    "    # inturrupt in while loop.\n",
    "    #if cv2.waitKey(1) & 0xFF == ord('q'):\n",
    "    #    break\n",
    "    #elif cv2.waitKey(1) & 0xFF == ord('f'):\n",
    "    #    if count<len(list_of_img)-1:\n",
    "    #        count=count+1\n",
    "    #        img = list_of_img[count]\n",
    "    #    else:\n",
    "    #        count=0\n",
    "    #elif cv2.waitKey(1) & 0xFF == ord('b'):\n",
    "    #    if count>1:\n",
    "    #        count=count-1\n",
    "    #        img = list_of_img[count]\n",
    "    #    else:\n",
    "    #        count = len(list_of_img)-1\n",
    "show_frame()\n",
    "root.mainloop()"
   ]
  },
  {
   "cell_type": "code",
   "execution_count": null,
   "metadata": {},
   "outputs": [],
   "source": []
  }
 ],
 "metadata": {
  "kernelspec": {
   "display_name": "Python 3",
   "language": "python",
   "name": "python3"
  },
  "language_info": {
   "codemirror_mode": {
    "name": "ipython",
    "version": 3
   },
   "file_extension": ".py",
   "mimetype": "text/x-python",
   "name": "python",
   "nbconvert_exporter": "python",
   "pygments_lexer": "ipython3",
   "version": "3.6.3"
  }
 },
 "nbformat": 4,
 "nbformat_minor": 2
}
